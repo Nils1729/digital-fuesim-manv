{
 "cells": [
  {
   "cell_type": "code",
   "execution_count": null,
   "metadata": {},
   "outputs": [],
   "source": [
    "import json\n",
    "import matplotlib.pyplot as plt"
   ]
  },
  {
   "cell_type": "code",
   "execution_count": null,
   "metadata": {},
   "outputs": [],
   "source": [
    "hpi_yellow = '#f6a800'\n",
    "hpi_orange = '#dd6108'\n",
    "hpi_red = '#b1063a'\n",
    "hpi_gray = '#5a6065'\n",
    "hpi_blue = '#007a9e'\n",
    "hpi_green = '#007f6f'\n",
    "hpi_lime = '#779a0b'\n",
    "hpi_purple = '#7664a0'"
   ]
  },
  {
   "cell_type": "code",
   "execution_count": null,
   "metadata": {},
   "outputs": [],
   "source": [
    "def load_file(name):\n",
    "    with open(name, 'r') as f:\n",
    "        data = json.loads(f.read())\n",
    "    return data\n",
    "\n",
    "def plot_times(series: list[list[float]], labels: list[str] = []):\n",
    "    parts = plt.violinplot(dataset=series, vert=False, showextrema=False, showmedians=True)\n",
    "    plt.title(\"Client-side action processing times\")\n",
    "    plt.xlim(0)\n",
    "    plt.xlabel('Per-action time in ms')\n",
    "\n",
    "    plt.ylabel('Configuration')\n",
    "    plt.yticks(\n",
    "        ticks=range(1,len(series)+1),\n",
    "        labels=labels)\n",
    "    for pc in parts['bodies']:\n",
    "        pc.set_alpha(1)\n",
    "        pc.set_facecolor(hpi_orange)\n",
    "        pc.set_edgecolor('k')\n",
    "    \n",
    "    parts['cmedians'].set_color(hpi_red)\n",
    "    plt.show()\n",
    "\n",
    "def load_series(fn):\n",
    "    data = load_file(fn)\n",
    "    plot_series = []\n",
    "    plot_labels = []\n",
    "    for session in data:\n",
    "        settings = session['settings']\n",
    "        for run in session['raw']:\n",
    "            plot_series.append(run['times'])\n",
    "            plot_labels.append(f'{settings[\"pas\"]}P/{settings[\"ticks\"]}T/{settings[\"run\"]}R: {run[\"ctx\"][\"stage\"]}')\n",
    "    return plot_series, plot_labels\n",
    "\n",
    "def plot_files(*fn):\n",
    "    s,l = [], []\n",
    "    for i, f in enumerate(fn):\n",
    "        ds, dl = load_series(f)\n",
    "        s += ds\n",
    "        l += [f'{dll} ({i})' for dll in dl]\n",
    "    plot_times(s, l)"
   ]
  },
  {
   "cell_type": "code",
   "execution_count": null,
   "metadata": {},
   "outputs": [],
   "source": [
    "d = load_file('./../data/tick-patients/2023-06-08T14:25:57.929Z.json')\n",
    "d += load_file('./../data/tick-patients/2023-06-08T14:41:29.940Z.json')\n",
    "    \n",
    "series = [run['raw']['[Exercise] Tick'] for run in d]\n",
    "labels=[f'{run[\"settings\"][\"method\"]}' for run in d]\n",
    "\n",
    "plot_times(series, labels)"
   ]
  },
  {
   "cell_type": "code",
   "execution_count": null,
   "metadata": {},
   "outputs": [],
   "source": [
    "plot_files('./../data/tick-patients/2023-06-12T08:34:31.639Z.json')"
   ]
  }
 ],
 "metadata": {
  "kernelspec": {
   "display_name": "venv",
   "language": "python",
   "name": "python3"
  },
  "language_info": {
   "codemirror_mode": {
    "name": "ipython",
    "version": 3
   },
   "file_extension": ".py",
   "mimetype": "text/x-python",
   "name": "python",
   "nbconvert_exporter": "python",
   "pygments_lexer": "ipython3",
   "version": "3.10.6"
  },
  "orig_nbformat": 4
 },
 "nbformat": 4,
 "nbformat_minor": 2
}
