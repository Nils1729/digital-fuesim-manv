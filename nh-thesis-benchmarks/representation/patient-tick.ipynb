{
 "cells": [
  {
   "cell_type": "code",
   "execution_count": null,
   "metadata": {},
   "outputs": [],
   "source": [
    "import json\n",
    "import matplotlib.pyplot as plt"
   ]
  },
  {
   "cell_type": "code",
   "execution_count": null,
   "metadata": {},
   "outputs": [],
   "source": [
    "hpi_yellow = '#f6a800'\n",
    "hpi_orange = '#dd6108'\n",
    "hpi_red = '#b1063a'\n",
    "hpi_gray = '#5a6065'\n",
    "hpi_blue = '#007a9e'\n",
    "hpi_green = '#007f6f'\n",
    "hpi_lime = '#779a0b'\n",
    "hpi_purple = '#7664a0'"
   ]
  },
  {
   "cell_type": "code",
   "execution_count": null,
   "metadata": {},
   "outputs": [],
   "source": [
    "def load_file(name):\n",
    "    with open(name, 'r') as f:\n",
    "        data = json.loads(f.read())\n",
    "    return data\n",
    "\n",
    "def plot_times(series: list[list[float]], labels: list[str] = []):\n",
    "    fig, ax = plt.subplots()\n",
    "    fig.set_size_inches(5, len(series) / 2)\n",
    "    parts = ax.violinplot(dataset=series, vert=False, showextrema=False, showmedians=True)\n",
    "    ax.set_title(\"Client-side action processing times\")\n",
    "    ax.set_xlim(0)\n",
    "    ax.set_xlabel('Per-action time in ms')\n",
    "    ax.set_ylabel('Configuration')\n",
    "    ax.set_yticks(ticks=range(1,len(series)+1), labels=labels)\n",
    "    \n",
    "    ax.grid(True)\n",
    "    \n",
    "    for pc in parts['bodies']:\n",
    "        pc.set_alpha(1)\n",
    "        pc.set_facecolor(hpi_orange)\n",
    "        pc.set_edgecolor('k')\n",
    "    parts['cmedians'].set_color(hpi_red)\n",
    "\n",
    "    \n",
    "    plt.show()\n",
    "\n",
    "def load_series(fn):\n",
    "    data = load_file(fn)\n",
    "    plot_series = []\n",
    "    plot_labels = []\n",
    "    for session in data:\n",
    "        settings = session['settings']\n",
    "        for run in session['raw']:\n",
    "            plot_series.append(run['times'])\n",
    "            plot_labels.append(f'{settings[\"pas\"]}P/{settings[\"ticks\"]}T/{settings[\"run\"]}R: {run[\"ctx\"][\"stage\"]}')\n",
    "    return plot_series, plot_labels\n",
    "\n",
    "def plot_files(*names):\n",
    "    s,l = [], []\n",
    "    for i, f in enumerate(names):\n",
    "        ds, dl = load_series(f)\n",
    "        s += ds\n",
    "        l += [f'{dll} ({i})' for dll in dl]\n",
    "    plot_times(s, l)"
   ]
  },
  {
   "cell_type": "code",
   "execution_count": null,
   "metadata": {},
   "outputs": [],
   "source": [
    "d = load_file('./../data/tick-patients/2023-06-08T14:25:57.929Z.json')\n",
    "d += load_file('./../data/tick-patients/2023-06-08T14:41:29.940Z.json')\n",
    "    \n",
    "series = [run['raw']['[Exercise] Tick'] for run in d]\n",
    "labels=[f'{run[\"settings\"][\"method\"]}' for run in d]\n",
    "\n",
    "plot_times(series, labels)"
   ]
  },
  {
   "cell_type": "code",
   "execution_count": null,
   "metadata": {},
   "outputs": [],
   "source": [
    "plot_files(\n",
    "    './../data/tick-patients/2023-06-12T09:42:50.885Z.json', \n",
    "    './../data/tick-patients/2023-06-12T09:55:08.684Z.json', \n",
    "    './../data/tick-patients/2023-06-12T10:07:25.733Z.json',\n",
    "    './../data/tick-patients/2023-06-12T10:56:53.403Z.json',\n",
    "           )"
   ]
  },
  {
   "cell_type": "code",
   "execution_count": null,
   "metadata": {},
   "outputs": [],
   "source": [
    "class TimeStats:\n",
    "    def __init__(self, raw_data):\n",
    "        ctx = raw_data['ctx']\n",
    "        self.type = ctx['type']\n",
    "        self.stage = ctx['stage']\n",
    "        stats = raw_data['stats']\n",
    "        self.count = stats['count']\n",
    "        self.total = stats['total']\n",
    "        self.avg = stats['avg']\n",
    "        self.stddev = stats['stddev']\n",
    "        self.var = stats['variance']\n",
    "        self.min = stats['min']\n",
    "        self.med = stats['med']\n",
    "        self.max = stats['max']\n",
    "\n",
    "class TimeRaw:\n",
    "    def __init__(self, raw_data):\n",
    "        ctx = raw_data['ctx']\n",
    "        self.type = ctx['type']\n",
    "        self.stage = ctx['stage']\n",
    "        self.times = raw_data['times']\n",
    "\n",
    "class TimeSeries:\n",
    "    def __init__(self, raw_data):\n",
    "        settings = raw_data['settings']\n",
    "        self.num_regions = settings['pas']\n",
    "        self.num_loaded_regions = settings['loaded_pas']\n",
    "        self.fraction_loaded = settings.get('fraction_pas', self.num_loaded_regions / self.num_regions if self.num_regions != 0 else 0)\n",
    "        self.ticks_run = settings['ticks']\n",
    "        self.iteration = settings['run']\n",
    "        self.raw_results = [TimeRaw(x) for x in raw_data['raw']]\n",
    "        self.stats_results = [TimeStats(x) for x in raw_data['stats']]\n",
    "        "
   ]
  },
  {
   "cell_type": "markdown",
   "metadata": {},
   "source": [
    "## Plots with partially loaded state"
   ]
  },
  {
   "cell_type": "code",
   "execution_count": null,
   "metadata": {},
   "outputs": [],
   "source": [
    "def avg_time_per_loaded_fraction(raw_data, stage=None, action=None):\n",
    "    out_series = {}\n",
    "    raw_series = [TimeSeries(run) for run in raw_data]\n",
    "    \n",
    "    def is_selected(stats):\n",
    "        return (stats.stage == stage or stage is None) and (action is None or action == stats.type)\n",
    "    \n",
    "    for run in raw_series:\n",
    "        series = out_series.get(run.fraction_loaded, {})\n",
    "        out_series[run.fraction_loaded] = series\n",
    "        series[run.num_regions] = next(filter(is_selected, run.stats_results)).med\n",
    "    \n",
    "    return out_series\n",
    "\n",
    "def plot_fraction_performance(series: dict):\n",
    "    fig, ax = plt.subplots()\n",
    "    ax.set_title(\"Client-side action processing times\")\n",
    "    \n",
    "    ax.set_ylabel('Per-action time in ms')\n",
    "    ax.set_xlabel('# of regions')\n",
    "    ax.grid(True)\n",
    "    for fraction, values in series.items():\n",
    "        x, y = zip(*values.items())\n",
    "        ax.plot(x, y, 'o', label=f'$p_r = {fraction}$')\n",
    "    ax.legend()\n",
    "    fig.show()"
   ]
  },
  {
   "cell_type": "code",
   "execution_count": null,
   "metadata": {},
   "outputs": [],
   "source": [
    "raw_data = load_file('../data/partial-state-fractions/2023-07-17T10:05:08.246Z.json')\n",
    "series = avg_time_per_loaded_fraction(raw_data)\n",
    "plot_fraction_performance(series)"
   ]
  }
 ],
 "metadata": {
  "kernelspec": {
   "display_name": "venv",
   "language": "python",
   "name": "python3"
  },
  "language_info": {
   "codemirror_mode": {
    "name": "ipython",
    "version": 3
   },
   "file_extension": ".py",
   "mimetype": "text/x-python",
   "name": "python",
   "nbconvert_exporter": "python",
   "pygments_lexer": "ipython3",
   "version": "3.10.6"
  },
  "orig_nbformat": 4
 },
 "nbformat": 4,
 "nbformat_minor": 2
}
